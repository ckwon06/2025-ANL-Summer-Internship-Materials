{
 "cells": [
  {
   "cell_type": "code",
   "execution_count": 1,
   "id": "78c001c9-2630-4c75-8f9d-def627fff50d",
   "metadata": {},
   "outputs": [
    {
     "name": "stderr",
     "output_type": "stream",
     "text": [
      "numba cannot be imported and numba functions are disabled.\n",
      "Probably the execution is slow.\n",
      "Please install numba to gain a massive speedup.\n",
      "(or if you prefer slow execution, set the flag numba=False to avoid this warning!)\n"
     ]
    },
    {
     "name": "stdout",
     "output_type": "stream",
     "text": [
      "      vm_pu  va_degree      p_mw    q_mvar\n",
      "0  1.000000    0.00000 -0.101795 -0.051882\n",
      "1  0.988922 -150.74663  0.100000  0.050000\n",
      "Empty DataFrame\n",
      "Columns: [p_from_mw, q_from_mvar, p_to_mw, q_to_mvar, pl_mw, ql_mvar, i_from_ka, i_to_ka, i_ka, vm_from_pu, va_from_degree, vm_to_pu, va_to_degree, loading_percent]\n",
      "Index: []\n"
     ]
    }
   ],
   "source": [
    "import pandapower as pp\n",
    "\n",
    "# Create an empty network\n",
    "net = pp.create_empty_network()\n",
    "\n",
    "# Create buses\n",
    "bus1 = pp.create_bus(net, vn_kv=20.)\n",
    "bus2 = pp.create_bus(net, vn_kv=0.4)\n",
    "\n",
    "# Add a transformer between the buses\n",
    "pp.create_transformer(net, bus1, bus2, std_type=\"0.4 MVA 20/0.4 kV\")\n",
    "\n",
    "# Add a load on the low-voltage side\n",
    "pp.create_load(net, bus2, p_mw=0.1, q_mvar=0.05)\n",
    "\n",
    "# Connect the high-voltage side to the external grid\n",
    "pp.create_ext_grid(net, bus1)\n",
    "\n",
    "# Run power flow\n",
    "pp.runpp(net)\n",
    "\n",
    "# Show results\n",
    "print(net.res_bus)\n",
    "print(net.res_line)\n"
   ]
  },
  {
   "cell_type": "code",
   "execution_count": null,
   "id": "ce19a066-0156-48ba-bb9f-20943764f024",
   "metadata": {},
   "outputs": [],
   "source": []
  }
 ],
 "metadata": {
  "kernelspec": {
   "display_name": "Python 3 (ipykernel)",
   "language": "python",
   "name": "python3"
  },
  "language_info": {
   "codemirror_mode": {
    "name": "ipython",
    "version": 3
   },
   "file_extension": ".py",
   "mimetype": "text/x-python",
   "name": "python",
   "nbconvert_exporter": "python",
   "pygments_lexer": "ipython3",
   "version": "3.9.23"
  }
 },
 "nbformat": 4,
 "nbformat_minor": 5
}
