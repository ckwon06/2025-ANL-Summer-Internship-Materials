{
 "cells": [
  {
   "cell_type": "code",
   "execution_count": 1,
   "id": "78c001c9-2630-4c75-8f9d-def627fff50d",
   "metadata": {},
   "outputs": [
    {
     "name": "stdout",
     "output_type": "stream",
     "text": [
      "      vm_pu  va_degree      p_mw    q_mvar\n",
      "0  1.000000    0.00000 -0.101795 -0.051882\n",
      "1  0.988922 -150.74663  0.100000  0.050000\n",
      "Empty DataFrame\n",
      "Columns: [p_from_mw, q_from_mvar, p_to_mw, q_to_mvar, pl_mw, ql_mvar, i_from_ka, i_to_ka, i_ka, vm_from_pu, va_from_degree, vm_to_pu, va_to_degree, loading_percent]\n",
      "Index: []\n"
     ]
    }
   ],
   "source": [
    "import pandapower as pp\n",
    "\n",
    "# Create an empty network\n",
    "net = pp.create_empty_network()\n",
    "\n",
    "# Create buses\n",
    "bus1 = pp.create_bus(net, vn_kv=20.)\n",
    "bus2 = pp.create_bus(net, vn_kv=0.4)\n",
    "\n",
    "# Add a transformer between the buses\n",
    "pp.create_transformer(net, bus1, bus2, std_type=\"0.4 MVA 20/0.4 kV\")\n",
    "\n",
    "# Add a load on the low-voltage side\n",
    "pp.create_load(net, bus2, p_mw=0.1, q_mvar=0.05)\n",
    "\n",
    "# Connect the high-voltage side to the external grid\n",
    "pp.create_ext_grid(net, bus1)\n",
    "\n",
    "# Run power flow\n",
    "pp.runpp(net)\n",
    "\n",
    "# Show results\n",
    "print(net.res_bus)\n",
    "print(net.res_line)\n"
   ]
  },
  {
   "cell_type": "markdown",
   "id": "d19e1bce-42b3-4c2b-9c10-1c3b354e5a1d",
   "metadata": {},
   "source": [
    "net = pp creates an empty pandapower network and assigns it to \"net\". this is where we will add buses, lines, loads, etc. \n",
    "\n",
    "bus1 and bus2 is creating a bus node with a nominal voltage of 20kv and .4 kv, respespectively. \n",
    "\n",
    "pp.create_transformer creates a transformer that connects bus1 to bu2 with the profile of a standard transformer as defined in pandapower. .4 MVA is the mega volt-amp that the transformer can handle (both real and reactive). 20/.4 KV shows the primary/secondary, meaning that this transformer steps down. \n",
    "\n",
    "pp.create_load creates a load on bus 2, the low voltage bus, with a consumption of .1 MW (megawatt) of active power and .05 of MVAR (megavolt ampere reactive) of reactive power.\n",
    "\n",
    "creates an external grid connection from bus1 , the high voltage bus. \n",
    "\n",
    "pp.runpp runs the power flow calculation using the given setting from above using newton raphson model. returns voltage and magnitude at each bus as well as power flow and losses. \n",
    "\n",
    "print returns the calculations for each bus and lines. \n",
    "\n",
    "The Return:\n",
    "\n",
    "it returns two rows: 0,1. 0 is bus1 and 1 is bus2. \n",
    "vm_pu is the voltage amgnitude at each bus in per unit for bus 1, there was 1 pu and bus2 was .98 pu.\n",
    "va_degree is the voltage angle in degrees. there was no angle for bus1 but a -150 degree angle for bus2. The large angle on bus 2 is due to the resistance (impedance) that the load (in this case, bus2) contains which dropped the voltage and shifted its phase.\n",
    "bus 1 supplies -.1 MW and -.05 MVAr while bus 2 CONSUMES .1 MW and .05 MVAr\n",
    "\n",
    "no transmission lines were made and thus net.res_line didn't return anything. "
   ]
  }
 ],
 "metadata": {
  "kernelspec": {
   "display_name": "Python 3 (ipykernel)",
   "language": "python",
   "name": "python3"
  },
  "language_info": {
   "codemirror_mode": {
    "name": "ipython",
    "version": 3
   },
   "file_extension": ".py",
   "mimetype": "text/x-python",
   "name": "python",
   "nbconvert_exporter": "python",
   "pygments_lexer": "ipython3",
   "version": "3.9.23"
  }
 },
 "nbformat": 4,
 "nbformat_minor": 5
}
