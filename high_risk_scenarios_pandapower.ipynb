{
 "cells": [
  {
   "cell_type": "markdown",
   "id": "dbd299e2-1e5f-4ab3-abed-44071b7b3715",
   "metadata": {},
   "source": [
    "## Utilizing ChatGPT to Develop High-risk Power System Scenarios in pandapower"
   ]
  },
  {
   "cell_type": "markdown",
   "id": "51e7ad0c-c6bb-403f-a1d7-abf608ee3086",
   "metadata": {},
   "source": [
    "### Objective: prompt ChatGPT to create risk scenarios for pandapower and evaluate the given code.\n"
   ]
  },
  {
   "cell_type": "markdown",
   "id": "408bc368-a5de-4e4e-95dc-48feb3899d8d",
   "metadata": {},
   "source": [
    "#### ChatGPT prompt: \n",
    "could you create five scenarios in pandapower for high risk in a power system?"
   ]
  },
  {
   "cell_type": "markdown",
   "id": "5d3fd026-4441-472e-8e13-a4a977c9e236",
   "metadata": {
    "jp-MarkdownHeadingCollapsed": true
   },
   "source": [
    "#### ChatGPT responded: \n",
    "with five outlines for various problems that could occur in a power system (line overloading, generator tripping, transformer overload/failure, islanding/ loss of connectivity, short circuit fault) with short, one-sentence details and risk definition. \n",
    "It also gave a code model that could be used to initialize the risk scenarios. "
   ]
  },
  {
   "cell_type": "markdown",
   "id": "71840691-7d4a-42bc-a0f8-22798de24b43",
   "metadata": {},
   "source": [
    "#### ChatGPT prompt: \n",
    "copied and pasted __[create github-note-book-pandapower task](https://github.com/ckwon06/C.Lee--2025-Summer-Internship-Materials/blob/master/github-notebook-pandapower.md)__ \n",
    "\n",
    "\"here is a task I was given previously with pushing an example power system. Give me the same steps with full code except for the five risk scenario models\""
   ]
  },
  {
   "cell_type": "markdown",
   "id": "e67ffc9e-f9a6-4b9e-b239-27e4dd7e4a4c",
   "metadata": {},
   "source": [
    "#### ChatGPT Responded"
   ]
  },
  {
   "cell_type": "code",
   "execution_count": 2,
   "id": "3c547ffc-d63a-4f19-ad78-ccb01c1459e7",
   "metadata": {},
   "outputs": [
    {
     "name": "stdout",
     "output_type": "stream",
     "text": [
      "Scenario 1: Line Loading Due to High Load\n",
      "   loading_percent\n",
      "0        69.677335\n",
      "1        37.521097\n",
      "2        17.542376\n",
      "3        29.903906\n",
      "4        18.044323\n",
      "5        47.242049\n",
      "6        65.819927\n",
      "7        21.637389\n",
      "8        34.606252\n",
      "\n",
      "Scenario 2: Generator Tripping\n",
      "      vm_pu  va_degree\n",
      "0  1.000000   0.000000\n",
      "1  1.000000 -17.296960\n",
      "2  1.000000 -10.227422\n",
      "3  0.986285  -7.884573\n",
      "4  0.974990 -12.858369\n",
      "5  0.999605 -13.083636\n",
      "6  0.980399 -17.951037\n",
      "7  0.991058 -17.296960\n",
      "8  0.958564 -15.195735\n",
      "\n",
      "Scenario 3: Transformer Overload\n",
      "   loading_percent\n",
      "0        94.852398\n",
      "\n",
      "Scenario 4: Islanding (Switch Open)\n",
      "      vm_pu  va_degree\n",
      "0  1.000000   0.000000\n",
      "1  1.000000   6.106227\n",
      "2  1.000000   8.451983\n",
      "3  0.985773  -2.429747\n",
      "4  0.973211  -2.738104\n",
      "5  1.005869   5.613572\n",
      "6  0.974223  -4.025492\n",
      "7  0.991559   0.209125\n",
      "8  0.957390  -5.607134\n",
      "\n"
     ]
    },
    {
     "ename": "ValueError",
     "evalue": "short circuit apparent power s_sc_max_mva needs to be specified for external grid \n Try: net.ext_grid['s_sc_max_mva'] = 1000",
     "output_type": "error",
     "traceback": [
      "\u001b[0;31m---------------------------------------------------------------------------\u001b[0m",
      "\u001b[0;31mValueError\u001b[0m                                Traceback (most recent call last)",
      "Cell \u001b[0;32mIn[2], line 48\u001b[0m\n\u001b[1;32m     46\u001b[0m \u001b[38;5;66;03m# Scenario 5: Three-Phase Fault\u001b[39;00m\n\u001b[1;32m     47\u001b[0m net5 \u001b[38;5;241m=\u001b[39m pn\u001b[38;5;241m.\u001b[39mcase9()\n\u001b[0;32m---> 48\u001b[0m \u001b[43msc\u001b[49m\u001b[38;5;241;43m.\u001b[39;49m\u001b[43mcalc_sc\u001b[49m\u001b[43m(\u001b[49m\u001b[43mnet5\u001b[49m\u001b[43m,\u001b[49m\u001b[43m \u001b[49m\u001b[43mfault\u001b[49m\u001b[38;5;241;43m=\u001b[39;49m\u001b[38;5;124;43m\"\u001b[39;49m\u001b[38;5;124;43m3ph\u001b[39;49m\u001b[38;5;124;43m\"\u001b[39;49m\u001b[43m,\u001b[49m\u001b[43m \u001b[49m\u001b[43mcase\u001b[49m\u001b[38;5;241;43m=\u001b[39;49m\u001b[38;5;124;43m\"\u001b[39;49m\u001b[38;5;124;43mmax\u001b[39;49m\u001b[38;5;124;43m\"\u001b[39;49m\u001b[43m)\u001b[49m\n\u001b[1;32m     49\u001b[0m \u001b[38;5;28mprint\u001b[39m(\u001b[38;5;124m\"\u001b[39m\u001b[38;5;124mScenario 5: Short-Circuit Analysis\u001b[39m\u001b[38;5;124m\"\u001b[39m)\n\u001b[1;32m     50\u001b[0m \u001b[38;5;28mprint\u001b[39m(net5\u001b[38;5;241m.\u001b[39mres_bus_sc[[\u001b[38;5;124m\"\u001b[39m\u001b[38;5;124mikss_ka\u001b[39m\u001b[38;5;124m\"\u001b[39m, \u001b[38;5;124m\"\u001b[39m\u001b[38;5;124mip_ka\u001b[39m\u001b[38;5;124m\"\u001b[39m]])\n",
      "File \u001b[0;32m~/miniconda3/envs/pandapower-clean/lib/python3.9/site-packages/pandapower/shortcircuit/calc_sc.py:159\u001b[0m, in \u001b[0;36mcalc_sc\u001b[0;34m(net, bus, fault, case, lv_tol_percent, topology, ip, ith, tk_s, kappa_method, r_fault_ohm, x_fault_ohm, branch_results, check_connectivity, return_all_currents, inverse_y, use_pre_fault_voltage)\u001b[0m\n\u001b[1;32m    156\u001b[0m init_results(net, \u001b[38;5;124m\"\u001b[39m\u001b[38;5;124msc\u001b[39m\u001b[38;5;124m\"\u001b[39m)\n\u001b[1;32m    158\u001b[0m \u001b[38;5;28;01mif\u001b[39;00m fault \u001b[38;5;129;01min\u001b[39;00m (\u001b[38;5;124m\"\u001b[39m\u001b[38;5;124m2ph\u001b[39m\u001b[38;5;124m\"\u001b[39m, \u001b[38;5;124m\"\u001b[39m\u001b[38;5;124m3ph\u001b[39m\u001b[38;5;124m\"\u001b[39m):\n\u001b[0;32m--> 159\u001b[0m     \u001b[43m_calc_sc\u001b[49m\u001b[43m(\u001b[49m\u001b[43mnet\u001b[49m\u001b[43m,\u001b[49m\u001b[43m \u001b[49m\u001b[43mbus\u001b[49m\u001b[43m)\u001b[49m\n\u001b[1;32m    160\u001b[0m \u001b[38;5;28;01melif\u001b[39;00m fault \u001b[38;5;241m==\u001b[39m \u001b[38;5;124m\"\u001b[39m\u001b[38;5;124m1ph\u001b[39m\u001b[38;5;124m\"\u001b[39m:\n\u001b[1;32m    161\u001b[0m     _calc_sc_1ph(net, bus)\n",
      "File \u001b[0;32m~/miniconda3/envs/pandapower-clean/lib/python3.9/site-packages/pandapower/shortcircuit/calc_sc.py:213\u001b[0m, in \u001b[0;36m_calc_sc\u001b[0;34m(net, bus)\u001b[0m\n\u001b[1;32m    212\u001b[0m \u001b[38;5;28;01mdef\u001b[39;00m\u001b[38;5;250m \u001b[39m\u001b[38;5;21m_calc_sc\u001b[39m(net, bus):\n\u001b[0;32m--> 213\u001b[0m     ppc, ppci \u001b[38;5;241m=\u001b[39m \u001b[43m_init_ppc\u001b[49m\u001b[43m(\u001b[49m\u001b[43mnet\u001b[49m\u001b[43m)\u001b[49m\n\u001b[1;32m    215\u001b[0m     _calc_current(net, ppci, bus)\n\u001b[1;32m    217\u001b[0m     ppc \u001b[38;5;241m=\u001b[39m _copy_results_ppci_to_ppc(ppci, ppc, \u001b[38;5;124m\"\u001b[39m\u001b[38;5;124msc\u001b[39m\u001b[38;5;124m\"\u001b[39m)\n",
      "File \u001b[0;32m~/miniconda3/envs/pandapower-clean/lib/python3.9/site-packages/pandapower/shortcircuit/ppc_conversion.py:36\u001b[0m, in \u001b[0;36m_init_ppc\u001b[0;34m(net)\u001b[0m\n\u001b[1;32m     34\u001b[0m _check_sc_data_integrity(net)\n\u001b[1;32m     35\u001b[0m _add_auxiliary_elements(net)\n\u001b[0;32m---> 36\u001b[0m ppc, _ \u001b[38;5;241m=\u001b[39m \u001b[43m_pd2ppc\u001b[49m\u001b[43m(\u001b[49m\u001b[43mnet\u001b[49m\u001b[43m)\u001b[49m\n\u001b[1;32m     38\u001b[0m \u001b[38;5;66;03m# Init the required columns to nan\u001b[39;00m\n\u001b[1;32m     39\u001b[0m ppc[\u001b[38;5;124m\"\u001b[39m\u001b[38;5;124mbus\u001b[39m\u001b[38;5;124m\"\u001b[39m][:, [K_G, K_SG, V_G, PS_TRAFO_IX, GS_P, BS_P, GS_GEN, BS_GEN]] \u001b[38;5;241m=\u001b[39m np\u001b[38;5;241m.\u001b[39mnan\n",
      "File \u001b[0;32m~/miniconda3/envs/pandapower-clean/lib/python3.9/site-packages/pandapower/pd2ppc.py:169\u001b[0m, in \u001b[0;36m_pd2ppc\u001b[0;34m(net, sequence, **kwargs)\u001b[0m\n\u001b[1;32m    167\u001b[0m \u001b[38;5;66;03m# Adds P and Q for loads / sgens in ppc['bus'] (PQ nodes)\u001b[39;00m\n\u001b[1;32m    168\u001b[0m \u001b[38;5;28;01mif\u001b[39;00m mode \u001b[38;5;241m==\u001b[39m \u001b[38;5;124m\"\u001b[39m\u001b[38;5;124msc\u001b[39m\u001b[38;5;124m\"\u001b[39m:\n\u001b[0;32m--> 169\u001b[0m     \u001b[43m_add_ext_grid_sc_impedance\u001b[49m\u001b[43m(\u001b[49m\u001b[43mnet\u001b[49m\u001b[43m,\u001b[49m\u001b[43m \u001b[49m\u001b[43mppc\u001b[49m\u001b[43m)\u001b[49m\n\u001b[1;32m    170\u001b[0m     \u001b[38;5;66;03m# Generator impedance are seperately added in sc module\u001b[39;00m\n\u001b[1;32m    171\u001b[0m     _add_motor_impedances_ppc(net, ppc)\n",
      "File \u001b[0;32m~/miniconda3/envs/pandapower-clean/lib/python3.9/site-packages/pandapower/build_bus.py:924\u001b[0m, in \u001b[0;36m_add_ext_grid_sc_impedance\u001b[0;34m(net, ppc)\u001b[0m\n\u001b[1;32m    922\u001b[0m     c \u001b[38;5;241m=\u001b[39m \u001b[38;5;241m1.1\u001b[39m\n\u001b[1;32m    923\u001b[0m \u001b[38;5;28;01mif\u001b[39;00m \u001b[38;5;129;01mnot\u001b[39;00m \u001b[38;5;124m\"\u001b[39m\u001b[38;5;124ms_sc_\u001b[39m\u001b[38;5;132;01m%s\u001b[39;00m\u001b[38;5;124m_mva\u001b[39m\u001b[38;5;124m\"\u001b[39m \u001b[38;5;241m%\u001b[39m case \u001b[38;5;129;01min\u001b[39;00m eg:\n\u001b[0;32m--> 924\u001b[0m     \u001b[38;5;28;01mraise\u001b[39;00m \u001b[38;5;167;01mValueError\u001b[39;00m((\u001b[38;5;124m\"\u001b[39m\u001b[38;5;124mshort circuit apparent power s_sc_\u001b[39m\u001b[38;5;132;01m%s\u001b[39;00m\u001b[38;5;124m_mva needs to be specified for \u001b[39m\u001b[38;5;124m\"\u001b[39m\n\u001b[1;32m    925\u001b[0m                       \u001b[38;5;124m\"\u001b[39m\u001b[38;5;124mexternal grid \u001b[39m\u001b[38;5;130;01m\\n\u001b[39;00m\u001b[38;5;124m Try: net.ext_grid[\u001b[39m\u001b[38;5;124m'\u001b[39m\u001b[38;5;124ms_sc_max_mva\u001b[39m\u001b[38;5;124m'\u001b[39m\u001b[38;5;124m] = 1000\u001b[39m\u001b[38;5;124m\"\u001b[39m) \u001b[38;5;241m%\u001b[39m case)\n\u001b[1;32m    926\u001b[0m s_sc \u001b[38;5;241m=\u001b[39m eg[\u001b[38;5;124m\"\u001b[39m\u001b[38;5;124ms_sc_\u001b[39m\u001b[38;5;132;01m%s\u001b[39;00m\u001b[38;5;124m_mva\u001b[39m\u001b[38;5;124m\"\u001b[39m \u001b[38;5;241m%\u001b[39m case]\u001b[38;5;241m.\u001b[39mvalues\u001b[38;5;241m/\u001b[39mppc[\u001b[38;5;124m'\u001b[39m\u001b[38;5;124mbaseMVA\u001b[39m\u001b[38;5;124m'\u001b[39m]\n\u001b[1;32m    927\u001b[0m \u001b[38;5;28;01mif\u001b[39;00m \u001b[38;5;129;01mnot\u001b[39;00m \u001b[38;5;124m\"\u001b[39m\u001b[38;5;124mrx_\u001b[39m\u001b[38;5;132;01m%s\u001b[39;00m\u001b[38;5;124m\"\u001b[39m \u001b[38;5;241m%\u001b[39m case \u001b[38;5;129;01min\u001b[39;00m eg:\n",
      "\u001b[0;31mValueError\u001b[0m: short circuit apparent power s_sc_max_mva needs to be specified for external grid \n Try: net.ext_grid['s_sc_max_mva'] = 1000"
     ]
    }
   ],
   "source": [
    "import pandapower as pp\n",
    "import pandapower.networks as pn\n",
    "import pandapower.shortcircuit as sc\n",
    "import matplotlib.pyplot as plt\n",
    "\n",
    "# Scenario 1: Line Overloading Due to High Load\n",
    "net1 = pn.case9()\n",
    "pp.create_load(net1, bus=5, p_mw=100, q_mvar=30)  # Artificial overload\n",
    "pp.runpp(net1)\n",
    "print(\"Scenario 1: Line Loading Due to High Load\")\n",
    "print(net1.res_line[[\"loading_percent\"]])\n",
    "print()\n",
    "\n",
    "# Scenario 2: Generator Tripping (Loss of Generation)\n",
    "net2 = pn.case9()\n",
    "net2.gen.loc[0, 'p_mw'] = 0  # Trip the main generator\n",
    "pp.runpp(net2)\n",
    "print(\"Scenario 2: Generator Tripping\")\n",
    "print(net2.res_bus[[\"vm_pu\", \"va_degree\"]])\n",
    "print()\n",
    "\n",
    "# Scenario 3: Transformer Overload\n",
    "net3 = pp.create_empty_network()\n",
    "b1 = pp.create_bus(net3, vn_kv=110)\n",
    "b2 = pp.create_bus(net3, vn_kv=20)\n",
    "b3 = pp.create_bus(net3, vn_kv=20)\n",
    "pp.create_ext_grid(net3, b1)\n",
    "pp.create_transformer(net3, b1, b2, std_type=\"25 MVA 110/20 kV\")\n",
    "pp.create_line(net3, b2, b3, length_km=1, std_type=\"NAYY 4x150 SE\")\n",
    "pp.create_load(net3, b3, p_mw=22, q_mvar=5)\n",
    "pp.runpp(net3)\n",
    "print(\"Scenario 3: Transformer Overload\")\n",
    "print(net3.res_trafo[[\"loading_percent\"]])\n",
    "print()\n",
    "\n",
    "# Scenario 4: Islanding (Loss of Connectivity)\n",
    "net4 = pn.case9()\n",
    "# Simulate islanding by opening a key switch (disconnect line 4)\n",
    "pp.create_switch(net4, bus=net4.line.from_bus.at[4], element=4, et=\"l\", closed=True)\n",
    "net4.switch.loc[0, 'closed'] = False\n",
    "pp.runpp(net4, init=\"auto\")\n",
    "print(\"Scenario 4: Islanding (Switch Open)\")\n",
    "print(net4.res_bus[[\"vm_pu\", \"va_degree\"]])\n",
    "print()\n",
    "\n",
    "# Scenario 5: Three-Phase Fault\n",
    "net5 = pn.case9()\n",
    "sc.calc_sc(net5, fault=\"3ph\", case=\"max\")\n",
    "print(\"Scenario 5: Short-Circuit Analysis\")\n",
    "print(net5.res_bus_sc[[\"ikss_ka\", \"ip_ka\"]])\n"
   ]
  },
  {
   "cell_type": "markdown",
   "id": "27ce6006-9a4e-4ca2-b49d-d4620ac4a47a",
   "metadata": {},
   "source": [
    "### Code Breakdown"
   ]
  },
  {
   "cell_type": "markdown",
   "id": "1949f4da-f46c-449e-abae-b008ebe4853c",
   "metadata": {},
   "source": [
    "#### Scenario 1: Line Overloading Due to High Load\n",
    "**net1 = pn.case9()**\n",
    "\n",
    "> net5 is assigned to a new IEEE 9-BUS system with pre-loaded standard buses, lines, loads, generators, etc. \n",
    "\n",
    "**pp.create_load(net1, bus=5, p_mw=100, q_mvar=30)  # Artificial overload**\n",
    "\n",
    "> creates a load at bus 5 with 100 MW active power and 30 MVAr reactive power \n",
    "\n",
    "> Artificial overload message is due to the fact that the active and reactive power is unreasonably large. Something that could not be achieved in standard, done synthetically to intentionally overload the system.\n",
    "\n",
    "**pp.runpp(net1)**\n",
    "\n",
    "> runs the power flow analysis on the given 9-BUS scenario to solve for line flow, bus voltages, power injections, etc. \n",
    "\n",
    "**print(\"Scenario 1: Line Loading Due to High Load\")**\n",
    "\n",
    "\n",
    "**print(net1.res_line[[\"loading_percent\"]])**\n",
    "\n",
    "\n",
    "**print()**\n",
    "\n",
    "> prints the heavy load of each line in percentage of its load capacity\n"
   ]
  },
  {
   "cell_type": "markdown",
   "id": "b96e5aed-99a5-44de-ae51-4c4a32fc3caf",
   "metadata": {},
   "source": [
    "#### Scenario 2: Generator Tripping (Loss of Generation)\n",
    "\n",
    "**net2 = pn.case9()**\n",
    "\n",
    "> loads a standard iEEE 9-BUS with pre-loaded standard buses, lines, loads, generators, etc and assigns to net2\n",
    "\n",
    "**net2.gen.loc[0, 'p_mw'] = 0  # Trip the main generator**\n",
    "\n",
    "> Disables first generator (sets active power to 0 MW), essentially a generator trip (shutdown)\n",
    "\n",
    "**pp.runpp(net2)**\n",
    "\n",
    "> runs power flow analysis on the given 9-BUS scenario\n",
    "\n",
    "**print(\"Scenario 2: Generator Tripping\")**\n",
    "\n",
    "\n",
    "\n",
    "**print(net2.res_bus[[\"vm_pu\", \"va_degree\"]])**\n",
    "\n",
    "\n",
    "\n",
    "**print()**\n",
    "\n",
    "> prints the power flow results,specifically the voltage magnitude and angle for each bus. "
   ]
  },
  {
   "cell_type": "markdown",
   "id": "dd386173-6163-4320-8396-12ff5adc53a6",
   "metadata": {},
   "source": [
    "#### Scenario 3: Transformer Overload\n",
    "**net3 = pp.create_empty_network()**\n",
    "\n",
    "> assigns net3 to an empty, custom network. Unlike the previous two examples, there are no pre-existing lines, buses, generators, etc. \n",
    "\n",
    "**b1 = pp.create_bus(net3, vn_kv=110)**\n",
    "\n",
    "> assign b1 to a new bus with a nominal voltage of 110 kV (high voltage)\n",
    "\n",
    "**b2 = pp.create_bus(net3, vn_kv=20)**\n",
    "\n",
    "> assign b2 to a new bus with a nominal voltage of 20 kV (medium voltage)\n",
    "\n",
    "**b3 = pp.create_bus(net3, vn_kv=20)**\n",
    "\n",
    "> assign b3 to a new bus with a nominal voltage of 20 kV (medium voltage)\n",
    "\n",
    "**pp.create_ext_grid(net3, b1)**\n",
    "\n",
    "> creates an external connection to an outside grid at the high voltage bus (b1)\n",
    "\n",
    "**pp.create_transformer(net3, b1, b2, std_type=\"25 MVA 110/20 kV\")**\n",
    "\n",
    "> creates a step-down transformer that goes from b1 to b2 with a 25 MVA capacity from 110 to 20 kV\n",
    "\n",
    "**pp.create_line(net3, b2, b3, length_km=1, std_type=\"NAYY 4x150 SE\")**\n",
    "\n",
    "> creates a 1 km MV distrubution line between b2 and b3 in standard type (standard copper core, aluminum conductor, PVC insulation and sheath; 4 conductors that each have a 150 mm^2 cross-sectional area, in standard earth grounding)\n",
    "\n",
    "**pp.create_load(net3, b3, p_mw=22, q_mvar=5)**\n",
    "\n",
    "> adds a load at b3 that has active power of 22 MW and reactive power of 5 MVAr. (a relatively heavy load on the transformer)\n",
    "\n",
    "**pp.runpp(net3)**\n",
    "\n",
    "> run the power flow analysis with the new network. \n",
    "\n",
    "**print(\"Scenario 3: Transformer Overload\")**\n",
    "**print(net3.res_trafo[[\"loading_percent\"]])**\n",
    "**print()**\n",
    "\n",
    "> returns power flow analysis results, specifically the percent used of the transformer's capacity."
   ]
  },
  {
   "cell_type": "markdown",
   "id": "5377d6cd-5393-4c1b-aae1-78cd948c09af",
   "metadata": {},
   "source": [
    "#### Scenario 4: Islanding (Loss of Connectivity)\n",
    "**net4 = pn.case9()**\n",
    "\n",
    "> creates standard IEEE 9-BUS system with pre-existing units. \n",
    "\n",
    "**pp.create_switch(net4, bus=net4.line.from_bus.at[4], element=4, et=\"l\", closed=True)**\n",
    "\n",
    "> creates a switch at the 'from' bus of line 4, starts off closed and thus conducting, contorlling line 4, and only the line. \n",
    "\n",
    "**net4.switch.loc[0, 'closed'] = False**\n",
    "\n",
    "> opens the switch and thus ceases to conduct flow, disconnecting line 4. Consequently, parts of the grid may be isolated from power (islanding). \n",
    "\n",
    "**pp.runpp(net4, init=\"auto\")**\n",
    "\n",
    "> runs the power flow, leting pandapower choose the best method to initialize\n",
    "\n",
    "**print(\"Scenario 4: Islanding (Switch Open)\")**\n",
    "\n",
    "**print(net4.res_bus[[\"vm_pu\", \"va_degree\"]])**\n",
    "\n",
    "**print()**\n",
    "\n",
    "> returns power flow results. shows bus voltage magnitudes, angles, etc. "
   ]
  },
  {
   "cell_type": "markdown",
   "id": "37c555d2-3ec9-49b0-b342-c613315aeb6d",
   "metadata": {},
   "source": [
    "#### Scenario 5: Three-Phase Fault\n",
    "\n",
    "**net5 = pn.case9()**\n",
    "\n",
    "> assigns net5 to a standard IEEE 9-BUS power system\n",
    "\n",
    "**sc.calc_sc(net5, fault=\"3ph\", case=\"max\")**\n",
    "\n",
    "> attempts to run a 3-phase short circuit calculation. using the strongest condiiton\n",
    "\n",
    "**print(\"Scenario 5: Short-Circuit Analysis\")**\n",
    "\n",
    "\n",
    "**print(net5.res_bus_sc[[\"ikss_ka\", \"ip_ka\"]])**\n",
    "\n",
    "> attempts to return symmetrical short-circuit current at each bus and the peak short-circuit current. "
   ]
  },
  {
   "cell_type": "code",
   "execution_count": null,
   "id": "68761e27-d656-4bfc-b4f2-a104d99ae864",
   "metadata": {},
   "outputs": [],
   "source": []
  }
 ],
 "metadata": {
  "kernelspec": {
   "display_name": "Python 3 (ipykernel)",
   "language": "python",
   "name": "python3"
  },
  "language_info": {
   "codemirror_mode": {
    "name": "ipython",
    "version": 3
   },
   "file_extension": ".py",
   "mimetype": "text/x-python",
   "name": "python",
   "nbconvert_exporter": "python",
   "pygments_lexer": "ipython3",
   "version": "3.9.23"
  }
 },
 "nbformat": 4,
 "nbformat_minor": 5
}
